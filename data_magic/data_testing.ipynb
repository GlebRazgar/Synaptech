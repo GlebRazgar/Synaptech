{
 "cells": [
  {
   "cell_type": "code",
   "execution_count": 28,
   "metadata": {},
   "outputs": [],
   "source": [
    "import mne\n",
    "import numpy as np\n",
    "from pprint import pprint\n",
    "from collections import Counter\n",
    "import matplotlib.pyplot as plt\n",
    "import pandas as pd"
   ]
  },
  {
   "cell_type": "code",
   "execution_count": null,
   "metadata": {},
   "outputs": [],
   "source": []
  },
  {
   "cell_type": "code",
   "execution_count": null,
   "metadata": {},
   "outputs": [],
   "source": [
    "# Replace with the path to your .fif file you want to explore\n",
    "fif_file = '../data/openfmri/test/sub-06/run_01.fif'\n",
    "\n",
    "# Read the raw data with preloading\n",
    "raw = mne.io.read_raw_fif(fif_file, preload=True)\n",
    "print(raw)"
   ]
  },
  {
   "cell_type": "markdown",
   "metadata": {},
   "source": [
    "# Previewing the data"
   ]
  },
  {
   "cell_type": "markdown",
   "metadata": {},
   "source": [
    "#### Channel information"
   ]
  },
  {
   "cell_type": "code",
   "execution_count": null,
   "metadata": {},
   "outputs": [],
   "source": [
    "# number of channels\n",
    "n_channels = raw.info['nchan']\n",
    "print(f'Total number of channels: {n_channels}')\n",
    "\n",
    "# channel types \n",
    "channel_types = raw.get_channel_types()\n",
    "type_counts = Counter(channel_types)\n",
    "print(f'Channel types: {type_counts}')\n",
    "\n",
    "# channel names\n",
    "channel_names = raw.ch_names\n",
    "print(f'Channel names ({len(channel_names)}): {channel_names}')"
   ]
  },
  {
   "cell_type": "code",
   "execution_count": null,
   "metadata": {},
   "outputs": [],
   "source": [
    "print(\"Channel information:\", raw.info['chs'])"
   ]
  },
  {
   "cell_type": "code",
   "execution_count": null,
   "metadata": {},
   "outputs": [],
   "source": [
    "print(raw.ch_names)"
   ]
  },
  {
   "cell_type": "code",
   "execution_count": null,
   "metadata": {},
   "outputs": [],
   "source": [
    "misc_channels = raw.copy().pick_channels(['MISC201', 'MISC202', 'MISC203', 'MISC204', 'MISC205', 'MISC206', \n",
    "                                          'MISC301', 'MISC302', 'MISC303', 'MISC304', 'MISC305', 'MISC306'])\n",
    "print(misc_channels.info['chs'])"
   ]
  },
  {
   "cell_type": "code",
   "execution_count": null,
   "metadata": {},
   "outputs": [],
   "source": [
    "raw.plot(picks=['MISC201', 'MISC202', 'MISC203', 'MISC204', 'MISC205', 'MISC206', 'MISC301', 'MISC302', 'MISC303', 'MISC304', 'MISC305', 'MISC306'])"
   ]
  },
  {
   "cell_type": "markdown",
   "metadata": {},
   "source": [
    "#### Sampling information\n",
    "  "
   ]
  },
  {
   "cell_type": "code",
   "execution_count": null,
   "metadata": {},
   "outputs": [],
   "source": [
    "# number of samples\n",
    "n_samples = raw.n_times\n",
    "print(f'Number of samples (frames): {n_samples}')\n",
    "\n",
    "# sampling frequency        \n",
    "sfreq = raw.info['sfreq']\n",
    "print(f'Sampling frequency: {sfreq} Hz')\n",
    "\n",
    "# duration of recording \n",
    "duration = n_samples / sfreq\n",
    "print(f'Duration of recording: {duration} seconds')"
   ]
  },
  {
   "cell_type": "markdown",
   "metadata": {},
   "source": [
    "## Accessign data format"
   ]
  },
  {
   "cell_type": "markdown",
   "metadata": {},
   "source": [
    "#### Data info\n",
    "- Data shape\n",
    "- Data type"
   ]
  },
  {
   "cell_type": "code",
   "execution_count": null,
   "metadata": {},
   "outputs": [],
   "source": [
    "data = raw.get_data()\n",
    "\n",
    "# Data shape\n",
    "print(f'Data shape (n_channels x n_times): {data.shape}')\n",
    "\n",
    "# Data type\n",
    "print(f'Data type: {data.dtype}')"
   ]
  },
  {
   "cell_type": "markdown",
   "metadata": {},
   "source": [
    "#### Channel acess"
   ]
  },
  {
   "cell_type": "code",
   "execution_count": null,
   "metadata": {},
   "outputs": [],
   "source": [
    "# Channel Indices\n",
    "eeg_indices = mne.pick_types(raw.info, meg=False, eeg=True)\n",
    "meg_indices = mne.pick_types(raw.info, meg=True, eeg=False)\n",
    "# print(f'EEG channel indices: {eeg_indices}')\n",
    "print(f'Number of EEG channels: {len(eeg_indices)}')\n",
    "print(f'Number of MEG channels: {len(meg_indices)}')\n",
    "\n",
    "# EEG and MEG Data\n",
    "eeg_data = data[eeg_indices, :]\n",
    "meg_data = data[meg_indices, :]\n",
    "print(f'EEG data shape: {eeg_data.shape}')\n",
    "print(f'MEG data shape: {meg_data.shape}')\n",
    "\n",
    "# Optional: Separate MEG magnetometers and gradiometers\n",
    "mag_indices = mne.pick_types(raw.info, meg='mag')\n",
    "grad_indices = mne.pick_types(raw.info, meg='grad')\n",
    "print(f'\\nNumber of MEG magnetometer channels: {len(mag_indices)}')\n",
    "print(f'Number of gradiometer channels: {len(grad_indices)}')"
   ]
  },
  {
   "cell_type": "code",
   "execution_count": null,
   "metadata": {},
   "outputs": [],
   "source": [
    "# Get indices of MEG channels\n",
    "meg_indices = mne.pick_types(raw.info, meg=True, eeg=False)\n",
    "print(f'Number of MEG channels: {len(meg_indices)}')\n",
    "print(f'MEG channel indices: {meg_indices}')\n",
    "\n",
    "# Optional: Separate MEG magnetometers and gradiometers\n",
    "mag_indices = mne.pick_types(raw.info, meg='mag')\n",
    "grad_indices = mne.pick_types(raw.info, meg='grad')\n",
    "print(f'Number of magnetometer channels: {len(mag_indices)}')\n",
    "print(f'Number of gradiometer channels: {len(grad_indices)}')\n",
    "\n",
    "print(f'Magnetometer indices: {mag_indices}')\n",
    "\n",
    "# Get indices of EEG channels\n",
    "eeg_indices = mne.pick_types(raw.info, meg=False, eeg=True)\n",
    "print(f'Number of EEG channels: {len(eeg_indices)}')\n",
    "print(f'EEG channel indices: {eeg_indices}')"
   ]
  },
  {
   "cell_type": "code",
   "execution_count": 11,
   "metadata": {},
   "outputs": [],
   "source": [
    "import numpy as np\n",
    "\n",
    "\n",
    "indices = np.arange(2,306,3)\n",
    "assert np.array_equal(indices, mag_indices), \"Not the same\"\n",
    "\n",
    "indices = np.arange(306, 380, 1)\n",
    "assert np.array_equal(indices, eeg_indices), \"Not the same\""
   ]
  },
  {
   "cell_type": "code",
   "execution_count": null,
   "metadata": {},
   "outputs": [],
   "source": [
    "channel_info = pd.DataFrame({\n",
    "    'Name': raw.ch_names,\n",
    "    'Type': raw.get_channel_types(),\n",
    "    'Unit': [raw._orig_units.get(ch, 'NA') for ch in raw.ch_names],\n",
    "    'Sampling Frequency': [sfreq] * n_channels\n",
    "})\n",
    "print(channel_info.head())"
   ]
  },
  {
   "cell_type": "markdown",
   "metadata": {},
   "source": [
    "# Plotting"
   ]
  },
  {
   "cell_type": "markdown",
   "metadata": {},
   "source": [
    "#### Plotting EEG electrodes in 2D"
   ]
  },
  {
   "cell_type": "code",
   "execution_count": null,
   "metadata": {},
   "outputs": [],
   "source": [
    "%matplotlib inline\n",
    "\n",
    "import warnings\n",
    "with warnings.catch_warnings():\n",
    "    warnings.filterwarnings(\"ignore\", category=RuntimeWarning)\n",
    "    raw.plot_sensors(kind='topomap', ch_type='eeg')"
   ]
  },
  {
   "cell_type": "markdown",
   "metadata": {},
   "source": [
    "#### Plotting EEG electrodes in 3D"
   ]
  },
  {
   "cell_type": "code",
   "execution_count": null,
   "metadata": {},
   "outputs": [],
   "source": [
    "%matplotlib inline\n",
    "\n",
    "import warnings\n",
    "with warnings.catch_warnings():\n",
    "    warnings.filterwarnings(\"ignore\", category=RuntimeWarning)\n",
    "    raw.plot_sensors(kind='3d', ch_type='eeg', show_names=True)"
   ]
  },
  {
   "cell_type": "markdown",
   "metadata": {},
   "source": [
    "#### Plotting MEG electrodes in 2D"
   ]
  },
  {
   "cell_type": "code",
   "execution_count": null,
   "metadata": {},
   "outputs": [],
   "source": [
    "import warnings\n",
    "with warnings.catch_warnings():\n",
    "    warnings.filterwarnings(\"ignore\", category=RuntimeWarning)\n",
    "    raw.plot_sensors(kind='topomap', ch_type='mag', show_names=True)  # Only MEG sensors MAG\n",
    "    raw.plot_sensors(kind='topomap', ch_type='grad', show_names=True)  # Only MEG sensors\n"
   ]
  },
  {
   "cell_type": "code",
   "execution_count": null,
   "metadata": {},
   "outputs": [],
   "source": [
    "# Plotting magnetometers in 3D\n",
    "%matplotlib inline\n",
    "import warnings\n",
    "with warnings.catch_warnings():\n",
    "    warnings.filterwarnings(\"ignore\", category=RuntimeWarning)\n",
    "    raw.plot_sensors(kind='3d', ch_type='mag', show_names=True)\n",
    "\n",
    "# Plotting gradiometers in 3D\n",
    "%matplotlib inline\n",
    "import warnings\n",
    "with warnings.catch_warnings():\n",
    "    warnings.filterwarnings(\"ignore\", category=RuntimeWarning)\n",
    "    raw.plot_sensors(kind='3d', ch_type='grad', show_names=True)"
   ]
  },
  {
   "cell_type": "markdown",
   "metadata": {},
   "source": [
    "#### Plotting both EEG & MEG electrodes together & Calculating closest neighbours"
   ]
  },
  {
   "cell_type": "markdown",
   "metadata": {},
   "source": [
    "- Plotting all electrodes"
   ]
  },
  {
   "cell_type": "code",
   "execution_count": null,
   "metadata": {},
   "outputs": [],
   "source": [
    "# Full code\n",
    "import plotly.graph_objects as go\n",
    "import numpy as np\n",
    "import mne\n",
    "\n",
    "# Get sensor positions\n",
    "pos = raw._get_channel_positions() * 1000 # Convert to mm\n",
    "\n",
    "# Create separate traces for EEG and MEG sensors\n",
    "eeg_idx = mne.pick_types(raw.info, eeg=True, meg=False)\n",
    "meg_idx = mne.pick_types(raw.info, meg=True, eeg=False)\n",
    "\n",
    "# Create the 3D scatter plot\n",
    "fig = go.Figure()\n",
    "\n",
    "# Add EEG sensors\n",
    "eeg_pos = pos[eeg_idx]\n",
    "fig.add_trace(go.Scatter3d(\n",
    "    x=eeg_pos[:, 0], y=eeg_pos[:, 1], z=eeg_pos[:, 2],\n",
    "    mode='markers+text',\n",
    "    marker=dict(size=8, color='blue'),\n",
    "    text=[raw.ch_names[i] for i in eeg_idx],\n",
    "    name='EEG'\n",
    "))\n",
    "\n",
    "# Add MEG sensors\n",
    "meg_pos = pos[meg_idx]\n",
    "fig.add_trace(go.Scatter3d(\n",
    "    x=meg_pos[:, 0], y=meg_pos[:, 1], z=meg_pos[:, 2],\n",
    "    mode='markers+text',\n",
    "    marker=dict(size=8, color='red'),\n",
    "    text=[raw.ch_names[i] for i in meg_idx],\n",
    "    name='MEG'\n",
    "))\n",
    "\n",
    "# Find closest MEG electrode for each EEG electrode and plot line\n",
    "closest_distances = []\n",
    "for i, eeg_electrode in enumerate(eeg_pos):\n",
    "    # Calculate distances to all MEG electrodes\n",
    "    distances = np.sqrt(np.sum((meg_pos - eeg_electrode)**2, axis=1))\n",
    "    \n",
    "    # Find the closest MEG electrode\n",
    "    closest_meg_idx = np.argmin(distances)\n",
    "    closest_meg_electrode = meg_pos[closest_meg_idx]\n",
    "    min_distance = distances[closest_meg_idx]\n",
    "    closest_distances.append(min_distance)\n",
    "    \n",
    "    # Create line coordinates\n",
    "    x_line = [eeg_electrode[0], closest_meg_electrode[0]]\n",
    "    y_line = [eeg_electrode[1], closest_meg_electrode[1]]\n",
    "    z_line = [eeg_electrode[2], closest_meg_electrode[2]]\n",
    "    \n",
    "    # Add line trace\n",
    "    fig.add_trace(go.Scatter3d(\n",
    "        x=x_line, y=y_line, z=z_line,\n",
    "        mode='lines',\n",
    "        line=dict(color='green', width=2),  # Made lines slightly thicker\n",
    "        opacity=0.5,  # Made lines more visible\n",
    "        showlegend=False,\n",
    "        hoverinfo='text',\n",
    "        text=f'Distance: {min_distance:.2f} mm'\n",
    "    ))\n",
    "\n",
    "# Update layout\n",
    "fig.update_layout(\n",
    "    title='EEG and MEG Sensor Positions with Shortest Distance Lines',\n",
    "    scene=dict(\n",
    "        xaxis_title='X (mm)',\n",
    "        yaxis_title='Y (mm)',\n",
    "        zaxis_title='Z (mm)',\n",
    "        aspectmode='data'     \n",
    "\n",
    "    ),\n",
    "    width=800,\n",
    "    height=800\n",
    ")\n",
    "\n",
    "# Save the plot as an HTML file\n",
    "fig.write_html(\"sensor_positions_closest_distances.html\")\n",
    "print(\"Plot saved as 'sensor_positions_closest_distances.html'. You can open it in your web browser.\")\n",
    "\n",
    "# Print statistics about the closest distances\n",
    "print(f\"\\nClosest Distance Statistics (in mm):\")\n",
    "print(f\"Minimum distance: {min(closest_distances):.2f}\")\n",
    "print(f\"Maximum distance: {max(closest_distances):.2f}\")\n",
    "print(f\"Average distance: {np.mean(closest_distances):.2f}\")\n",
    "print(f\"Standard deviation: {np.std(closest_distances):.2f}\")"
   ]
  },
  {
   "cell_type": "markdown",
   "metadata": {},
   "source": [
    "- Plotting only the closely connected EEG and MEG electrode pairs (those that are in the bottom 25% of distance interquartile range)"
   ]
  },
  {
   "cell_type": "code",
   "execution_count": null,
   "metadata": {},
   "outputs": [],
   "source": [
    "import plotly.graph_objects as go\n",
    "import numpy as np\n",
    "import mne\n",
    "\n",
    "# Get sensor positions and convert from meters to millimeters\n",
    "pos = raw._get_channel_positions() * 1000  # Convert positions to mm\n",
    "\n",
    "# Create separate indices for EEG and MEG sensors\n",
    "eeg_idx = mne.pick_types(raw.info, eeg=True, meg=False)\n",
    "meg_idx = mne.pick_types(raw.info, meg=True, eeg=False)\n",
    "\n",
    "# EEG sensor positions and names\n",
    "eeg_pos_full = pos[eeg_idx]\n",
    "eeg_names_full = [raw.ch_names[i] for i in eeg_idx]\n",
    "\n",
    "# MEG sensor positions and names\n",
    "meg_pos_full = pos[meg_idx]\n",
    "meg_names_full = [raw.ch_names[i] for i in meg_idx]\n",
    "\n",
    "# Variables to store distances and indices\n",
    "closest_distances = []\n",
    "closest_meg_indices = []\n",
    "\n",
    "# Track used MEG electrodes\n",
    "used_meg_electrodes = set()\n",
    "\n",
    "# Compute closest MEG electrode for each EEG electrode\n",
    "for i, eeg_electrode in enumerate(eeg_pos_full):\n",
    "    distances = np.linalg.norm(meg_pos_full - eeg_electrode, axis=1)\n",
    "    sorted_indices = np.argsort(distances)\n",
    "    \n",
    "    # Find the closest unused MEG electrode\n",
    "    for closest_meg_idx in sorted_indices:\n",
    "        if closest_meg_idx not in used_meg_electrodes:\n",
    "            min_distance = distances[closest_meg_idx]\n",
    "            used_meg_electrodes.add(closest_meg_idx)\n",
    "            closest_distances.append(min_distance)\n",
    "            closest_meg_indices.append(closest_meg_idx)\n",
    "            break\n",
    "\n",
    "# Convert lists to numpy arrays for easier indexing\n",
    "closest_distances = np.array(closest_distances)\n",
    "closest_meg_indices = np.array(closest_meg_indices)\n",
    "\n",
    "# Calculate quartiles\n",
    "q1 = np.percentile(closest_distances, 25)\n",
    "q3 = np.percentile(closest_distances, 75)\n",
    "iqr = q3 - q1\n",
    "\n",
    "# Find indices of EEG electrodes in the bottom 25%\n",
    "bottom25_indices = np.where(closest_distances <= q1)[0]\n",
    "\n",
    "# Filter EEG electrodes to only those in bottom 25%\n",
    "eeg_pos = eeg_pos_full[bottom25_indices]\n",
    "eeg_names = [eeg_names_full[i] for i in bottom25_indices]\n",
    "\n",
    "# Get corresponding MEG indices and positions\n",
    "closest_meg_indices_bottom25 = closest_meg_indices[bottom25_indices]\n",
    "used_meg_indices = np.unique(closest_meg_indices_bottom25)\n",
    "used_meg_pos = meg_pos_full[used_meg_indices]\n",
    "used_meg_names = [meg_names_full[i] for i in used_meg_indices]\n",
    "\n",
    "# Create the 3D scatter plot\n",
    "fig = go.Figure()\n",
    "\n",
    "# Add EEG sensors (Bottom 25%) to the plot\n",
    "fig.add_trace(go.Scatter3d(\n",
    "    x=eeg_pos[:, 0],\n",
    "    y=eeg_pos[:, 1],\n",
    "    z=eeg_pos[:, 2],\n",
    "    mode='markers+text',\n",
    "    marker=dict(size=5, color='blue'),\n",
    "    text=eeg_names,\n",
    "    name='EEG (Bottom 25%)'\n",
    "))\n",
    "\n",
    "# Add MEG sensors corresponding to the Bottom 25% EEG electrodes\n",
    "fig.add_trace(go.Scatter3d(\n",
    "    x=used_meg_pos[:, 0],\n",
    "    y=used_meg_pos[:, 1],\n",
    "    z=used_meg_pos[:, 2],\n",
    "    mode='markers+text',\n",
    "    marker=dict(size=5, color='red'),\n",
    "    text=used_meg_names,\n",
    "    name='MEG (Corresponding)'\n",
    "))\n",
    "\n",
    "# Add lines between EEG electrodes and their closest MEG electrodes\n",
    "for i, eeg_electrode in enumerate(eeg_pos):\n",
    "    closest_meg_idx = closest_meg_indices_bottom25[i]\n",
    "    closest_meg_electrode = meg_pos_full[closest_meg_idx]\n",
    "    min_distance = np.linalg.norm(closest_meg_electrode - eeg_electrode)\n",
    "    \n",
    "    x_line = [eeg_electrode[0], closest_meg_electrode[0]]\n",
    "    y_line = [eeg_electrode[1], closest_meg_electrode[1]]\n",
    "    z_line = [eeg_electrode[2], closest_meg_electrode[2]]\n",
    "    \n",
    "    # Add line trace\n",
    "    fig.add_trace(go.Scatter3d(\n",
    "        x=x_line,\n",
    "        y=y_line,\n",
    "        z=z_line,\n",
    "        mode='lines',\n",
    "        line=dict(color='green', width=2),\n",
    "        opacity=0.8,\n",
    "        showlegend=False,\n",
    "        hoverinfo='text',\n",
    "        text=f'Distance: {min_distance:.2f} mm'\n",
    "    ))\n",
    "\n",
    "# Update plot layout\n",
    "fig.update_layout(\n",
    "    title='EEG and MEG Sensor Positions (Bottom 25% Distances)',\n",
    "    scene=dict(\n",
    "        xaxis_title='X (mm)',\n",
    "        yaxis_title='Y (mm)',\n",
    "        zaxis_title='Z (mm)',\n",
    "        aspectmode='data'  # Ensures equal scaling\n",
    "    ),\n",
    "    width=800,\n",
    "    height=800\n",
    ")\n",
    "\n",
    "# Save the plot as an HTML file\n",
    "fig.write_html(\"sensor_positions_bottom25.html\")\n",
    "print(\"Plot saved as 'sensor_positions_bottom25.html'. You can open it in your web browser.\")\n",
    "\n",
    "# Print distance statistics for bottom 25%\n",
    "bottom25_distances = closest_distances[bottom25_indices]\n",
    "print(f\"\\nBottom 25% Closest Distance Statistics (in mm):\")\n",
    "print(f\"Minimum distance: {bottom25_distances.min():.2f}\")\n",
    "print(f\"Maximum distance: {bottom25_distances.max():.2f}\")\n",
    "print(f\"Average distance: {bottom25_distances.mean():.2f}\")\n",
    "print(f\"Standard deviation: {bottom25_distances.std():.2f}\")\n",
    "print(f\"Number of EEG electrodes in Bottom 25%: {len(bottom25_indices)}\")\n",
    "print(f\"Number of MEG electrodes used: {len(used_meg_indices)}\")"
   ]
  },
  {
   "cell_type": "markdown",
   "metadata": {},
   "source": [
    "#### Plotting EEG spectogramm"
   ]
  },
  {
   "cell_type": "code",
   "execution_count": null,
   "metadata": {},
   "outputs": [],
   "source": [
    "# Plot EEG data\n",
    "eeg_indices = mne.pick_types(raw.info, meg=False, eeg=True)\n",
    "raw.plot(picks=eeg_indices, duration=5, n_channels=30, title='EEG Data')\n",
    "plt.show()"
   ]
  },
  {
   "cell_type": "markdown",
   "metadata": {},
   "source": [
    "#### Plotting MEG spectogramm"
   ]
  },
  {
   "cell_type": "code",
   "execution_count": null,
   "metadata": {},
   "outputs": [],
   "source": [
    "# Pick MEG channels\n",
    "meg_indices = mne.pick_types(raw.info, meg=True, eeg=False)\n",
    "\n",
    "# Plot MEG data\n",
    "raw.plot(picks=meg_indices, duration=5, n_channels=30, title='MEG Data')\n",
    "plt.show()\n"
   ]
  },
  {
   "cell_type": "code",
   "execution_count": null,
   "metadata": {},
   "outputs": [],
   "source": [
    "\n",
    "# Channel Indices\n",
    "eeg_indices = mne.pick_types(raw.info, meg=False, eeg=True)\n",
    "meg_indices = mne.pick_types(raw.info, meg=True, eeg=False)\n",
    "print(f'Number of EEG channels: {len(eeg_indices)}')\n",
    "print(f'Number of MEG channels: {len(meg_indices)}')\n",
    "\n",
    "# EEG and MEG Data\n",
    "eeg_data = data[eeg_indices, :]\n",
    "meg_data = data[meg_indices, :]\n",
    "print(f'EEG data shape: {eeg_data.shape}')\n",
    "print(f'MEG data shape: {meg_data.shape}')\n",
    "\n",
    "# Units Conversion\n",
    "eeg_data_uv = eeg_data * 1e6  # Convert EEG data to µV\n",
    "meg_data_ft = meg_data * 1e15  # Convert MEG data to fT (magnetometers)\n",
    "\n",
    "# Power Spectral Density for EEG\n",
    "fig, ax = plt.subplots(figsize=(10, 6))\n",
    "raw.plot_psd(picks=eeg_indices, fmax=100, average=True, spatial_colors=False, ax=ax)\n",
    "ax.set_title('EEG PSD')\n",
    "plt.show()\n",
    "\n",
    "# Power Spectral Density for MEG\n",
    "# Separate plots for magnetometers and gradiometers\n",
    "mag_indices = mne.pick_types(raw.info, meg='mag')\n",
    "grad_indices = mne.pick_types(raw.info, meg='grad')\n",
    "\n",
    "fig, (ax1, ax2) = plt.subplots(2, 1, figsize=(10, 10))\n",
    "raw.plot_psd(picks=mag_indices, fmax=100, average=True, spatial_colors=False, ax=ax1)\n",
    "ax1.set_title('MEG Magnetometers PSD')\n",
    "\n",
    "raw.plot_psd(picks=grad_indices, fmax=100, average=True, spatial_colors=False, ax=ax2)\n",
    "ax2.set_title('MEG Gradiometers PSD')\n",
    "plt.tight_layout()\n",
    "plt.show()\n",
    "\n",
    "\n",
    "# Events and Annotations\n",
    "events = mne.find_events(raw, stim_channel='STI101')\n",
    "print(f'Found {len(events)} events.')\n",
    "print(events)\n",
    "print('Annotations:')\n",
    "print(raw.annotations)\n",
    "\n",
    "# Measurement Info\n",
    "print('Measurement Info:')\n",
    "pprint(raw.info)"
   ]
  },
  {
   "cell_type": "code",
   "execution_count": null,
   "metadata": {},
   "outputs": [],
   "source": []
  },
  {
   "cell_type": "markdown",
   "metadata": {},
   "source": [
    "# Inter-subject data exploration"
   ]
  },
  {
   "cell_type": "code",
   "execution_count": 22,
   "metadata": {},
   "outputs": [],
   "source": [
    "import os\n",
    "\n",
    "def checkDataIntegrity(datasetPath):\n",
    "    ### iterate through mode folders (train, test, val)\n",
    "    for modeFolder in os.listdir(datasetPath):\n",
    "        if \".zip\" in modeFolder or modeFolder[0] == \".\":\n",
    "            continue\n",
    "        assert os.path.isdir(os.path.join(datasetPath,modeFolder)), f\"Dataset folder contains unexpected file: {modeFolder}\"\n",
    "        assert modeFolder == \"train\" or modeFolder == \"val\" or modeFolder == \"test\", f\"Dataset folder contains unexpected folder: {modeFolder} (expected train, test and val)\"\n",
    "        ### iterate through subject folders in dataset folder\n",
    "        for subjectFolder in os.listdir(os.path.join(datasetPath, modeFolder)):\n",
    "            assert os.path.isdir(os.path.join(datasetPath,modeFolder,subjectFolder)), f\"Dataset folder contains unexpected file: {modeFolder}/{subjectFolder}\"\n",
    "            assert len(os.listdir(os.path.join(datasetPath,modeFolder,subjectFolder)))>0, f\"Subject folder {modeFolder}/{subjectFolder} unexpectedly empty\"\n",
    "            ### iterate through run files in subject folders\n",
    "            for file in os.listdir(os.path.join(datasetPath,modeFolder,subjectFolder)):\n",
    "                assert \".txt\" in file or \".fif\" in file, f\"Unexpected file {file} in folder {modeFolder}/{subjectFolder}\"\n",
    "\n",
    "\n",
    "datasetPath = \"../data/openfmri/\"\n",
    "checkDataIntegrity(datasetPath)"
   ]
  },
  {
   "cell_type": "code",
   "execution_count": null,
   "metadata": {},
   "outputs": [],
   "source": [
    "modes = ['train','test','val']\n",
    "subject_dict = {mode: {} for mode in modes}\n",
    "\n",
    "for mode in modes:\n",
    "    for subjectFolder in os.listdir(os.path.join(datasetPath, mode)):\n",
    "        subject_dict[mode][subjectFolder] = []\n",
    "        for file in os.listdir(os.path.join(datasetPath, mode, subjectFolder)):\n",
    "            if \".fif\" in file:\n",
    "                subject_dict[mode][subjectFolder].append(file)\n",
    "\n",
    "train_subject_dict = subject_dict['train']\n",
    "val_subject_dict = subject_dict['val']\n",
    "test_subject_dict = subject_dict['test']\n",
    "\n",
    "print(subject_dict)"
   ]
  },
  {
   "cell_type": "code",
   "execution_count": null,
   "metadata": {},
   "outputs": [],
   "source": [
    "import mne\n",
    "import matplotlib.pyplot as plt\n",
    "\n",
    "# Initialize dictionaries to store the number of frames and sampling rates per participant and per run\n",
    "frames_count = {mode: {} for mode in modes}\n",
    "sampling_rates = {mode: {} for mode in modes}\n",
    "\n",
    "# Iterate over each mode and participant to calculate the number of frames and track sampling rates\n",
    "for mode, participants in subject_dict.items():\n",
    "    for participant, runs in participants.items():\n",
    "        frames_count[mode][participant] = []\n",
    "        sampling_rates[mode][participant] = []\n",
    "        for run in runs:\n",
    "            fif_file = os.path.join(datasetPath, mode, participant, run)\n",
    "            raw = mne.io.read_raw_fif(fif_file, preload=True)\n",
    "            frames_count[mode][participant].append(raw.n_times)\n",
    "            sampling_rates[mode][participant].append(raw.info['sfreq'])\n"
   ]
  },
  {
   "cell_type": "code",
   "execution_count": null,
   "metadata": {},
   "outputs": [],
   "source": [
    "# Flatten the sampling_rates dictionary\n",
    "flat_sampling_rates = [rate for mode in sampling_rates.values() for participant in mode.values() for rate in participant]\n",
    "\n",
    "# Assert that all sampling rates are the same\n",
    "assert all(rate == flat_sampling_rates[0] for rate in flat_sampling_rates), \"Not all sampling rates are the same\"\n",
    "print(f\"All sampling rates are consistent at {flat_sampling_rates[0]:.0f}Hz.\")"
   ]
  },
  {
   "cell_type": "code",
   "execution_count": null,
   "metadata": {},
   "outputs": [],
   "source": [
    "\n",
    "# Plot the number of frames per participant\n",
    "for mode, participants in frames_count.items():\n",
    "    plt.figure(figsize=(10, 5))\n",
    "    for participant, frames in participants.items():\n",
    "        plt.plot(frames, label=participant)\n",
    "    plt.title(f'Number of Frames per Run for {mode.capitalize()} Mode')\n",
    "    plt.xlabel('Run Index')\n",
    "    plt.ylabel('Number of Frames')\n",
    "    plt.legend(loc='upper right')\n",
    "    plt.show()\n"
   ]
  }
 ],
 "metadata": {
  "kernelspec": {
   "display_name": ".venv",
   "language": "python",
   "name": "python3"
  },
  "language_info": {
   "codemirror_mode": {
    "name": "ipython",
    "version": 3
   },
   "file_extension": ".py",
   "mimetype": "text/x-python",
   "name": "python",
   "nbconvert_exporter": "python",
   "pygments_lexer": "ipython3",
   "version": "3.12.3"
  }
 },
 "nbformat": 4,
 "nbformat_minor": 2
}
