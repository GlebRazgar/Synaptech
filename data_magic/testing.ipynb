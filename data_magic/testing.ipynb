{
 "cells": [
  {
   "cell_type": "code",
   "execution_count": 1,
   "metadata": {},
   "outputs": [
    {
     "name": "stdout",
     "output_type": "stream",
     "text": [
      "Opening raw data file data/openfmri/sub-01/ses-meg/meg/sub-01_ses-meg_task-facerecognition_run-01_meg.fif...\n"
     ]
    },
    {
     "ename": "FileNotFoundError",
     "evalue": "fname does not exist: /Users/gleb/Desktop/CS/Synaptech/data_magic/data/openfmri/sub-01/ses-meg/meg/sub-01_ses-meg_task-facerecognition_run-01_meg.fif",
     "output_type": "error",
     "traceback": [
      "\u001b[0;31m---------------------------------------------------------------------------\u001b[0m",
      "\u001b[0;31mFileNotFoundError\u001b[0m                         Traceback (most recent call last)",
      "Cell \u001b[0;32mIn[1], line 10\u001b[0m\n\u001b[1;32m      7\u001b[0m \u001b[38;5;28;01mimport\u001b[39;00m \u001b[38;5;21;01mtime\u001b[39;00m\n\u001b[1;32m      9\u001b[0m start_time \u001b[38;5;241m=\u001b[39m time\u001b[38;5;241m.\u001b[39mtime()\n\u001b[0;32m---> 10\u001b[0m raw_data \u001b[38;5;241m=\u001b[39m \u001b[43mmne\u001b[49m\u001b[38;5;241;43m.\u001b[39;49m\u001b[43mio\u001b[49m\u001b[38;5;241;43m.\u001b[39;49m\u001b[43mread_raw_fif\u001b[49m\u001b[43m(\u001b[49m\u001b[43mfif_file\u001b[49m\u001b[43m,\u001b[49m\u001b[43m \u001b[49m\u001b[43mpreload\u001b[49m\u001b[38;5;241;43m=\u001b[39;49m\u001b[38;5;28;43;01mTrue\u001b[39;49;00m\u001b[43m)\u001b[49m\n\u001b[1;32m     11\u001b[0m end_time \u001b[38;5;241m=\u001b[39m time\u001b[38;5;241m.\u001b[39mtime()\n\u001b[1;32m     13\u001b[0m load_time \u001b[38;5;241m=\u001b[39m end_time \u001b[38;5;241m-\u001b[39m start_time\n",
      "File \u001b[0;32m~/miniconda3/envs/synaptech_env/lib/python3.10/site-packages/mne/io/fiff/raw.py:482\u001b[0m, in \u001b[0;36mread_raw_fif\u001b[0;34m(fname, allow_maxshield, preload, on_split_missing, verbose)\u001b[0m\n\u001b[1;32m    442\u001b[0m \u001b[38;5;129m@fill_doc\u001b[39m\n\u001b[1;32m    443\u001b[0m \u001b[38;5;28;01mdef\u001b[39;00m \u001b[38;5;21mread_raw_fif\u001b[39m(fname, allow_maxshield\u001b[38;5;241m=\u001b[39m\u001b[38;5;28;01mFalse\u001b[39;00m, preload\u001b[38;5;241m=\u001b[39m\u001b[38;5;28;01mFalse\u001b[39;00m,\n\u001b[1;32m    444\u001b[0m                  on_split_missing\u001b[38;5;241m=\u001b[39m\u001b[38;5;124m'\u001b[39m\u001b[38;5;124mraise\u001b[39m\u001b[38;5;124m'\u001b[39m, verbose\u001b[38;5;241m=\u001b[39m\u001b[38;5;28;01mNone\u001b[39;00m):\n\u001b[1;32m    445\u001b[0m \u001b[38;5;250m    \u001b[39m\u001b[38;5;124;03m\"\"\"Reader function for Raw FIF data.\u001b[39;00m\n\u001b[1;32m    446\u001b[0m \n\u001b[1;32m    447\u001b[0m \u001b[38;5;124;03m    Parameters\u001b[39;00m\n\u001b[0;32m   (...)\u001b[0m\n\u001b[1;32m    480\u001b[0m \u001b[38;5;124;03m    are updated accordingly.\u001b[39;00m\n\u001b[1;32m    481\u001b[0m \u001b[38;5;124;03m    \"\"\"\u001b[39;00m\n\u001b[0;32m--> 482\u001b[0m     \u001b[38;5;28;01mreturn\u001b[39;00m \u001b[43mRaw\u001b[49m\u001b[43m(\u001b[49m\u001b[43mfname\u001b[49m\u001b[38;5;241;43m=\u001b[39;49m\u001b[43mfname\u001b[49m\u001b[43m,\u001b[49m\u001b[43m \u001b[49m\u001b[43mallow_maxshield\u001b[49m\u001b[38;5;241;43m=\u001b[39;49m\u001b[43mallow_maxshield\u001b[49m\u001b[43m,\u001b[49m\n\u001b[1;32m    483\u001b[0m \u001b[43m               \u001b[49m\u001b[43mpreload\u001b[49m\u001b[38;5;241;43m=\u001b[39;49m\u001b[43mpreload\u001b[49m\u001b[43m,\u001b[49m\u001b[43m \u001b[49m\u001b[43mverbose\u001b[49m\u001b[38;5;241;43m=\u001b[39;49m\u001b[43mverbose\u001b[49m\u001b[43m,\u001b[49m\n\u001b[1;32m    484\u001b[0m \u001b[43m               \u001b[49m\u001b[43mon_split_missing\u001b[49m\u001b[38;5;241;43m=\u001b[39;49m\u001b[43mon_split_missing\u001b[49m\u001b[43m)\u001b[49m\n",
      "File \u001b[0;32m<decorator-gen-262>:12\u001b[0m, in \u001b[0;36m__init__\u001b[0;34m(self, fname, allow_maxshield, preload, on_split_missing, verbose)\u001b[0m\n",
      "File \u001b[0;32m~/miniconda3/envs/synaptech_env/lib/python3.10/site-packages/mne/io/fiff/raw.py:81\u001b[0m, in \u001b[0;36mRaw.__init__\u001b[0;34m(self, fname, allow_maxshield, preload, on_split_missing, verbose)\u001b[0m\n\u001b[1;32m     78\u001b[0m next_fname \u001b[38;5;241m=\u001b[39m fname\n\u001b[1;32m     79\u001b[0m \u001b[38;5;28;01mwhile\u001b[39;00m next_fname \u001b[38;5;129;01mis\u001b[39;00m \u001b[38;5;129;01mnot\u001b[39;00m \u001b[38;5;28;01mNone\u001b[39;00m:\n\u001b[1;32m     80\u001b[0m     raw, next_fname, buffer_size_sec \u001b[38;5;241m=\u001b[39m \\\n\u001b[0;32m---> 81\u001b[0m         \u001b[38;5;28;43mself\u001b[39;49m\u001b[38;5;241;43m.\u001b[39;49m\u001b[43m_read_raw_file\u001b[49m\u001b[43m(\u001b[49m\u001b[43mnext_fname\u001b[49m\u001b[43m,\u001b[49m\u001b[43m \u001b[49m\u001b[43mallow_maxshield\u001b[49m\u001b[43m,\u001b[49m\n\u001b[1;32m     82\u001b[0m \u001b[43m                            \u001b[49m\u001b[43mpreload\u001b[49m\u001b[43m,\u001b[49m\u001b[43m \u001b[49m\u001b[43mdo_check_ext\u001b[49m\u001b[43m)\u001b[49m\n\u001b[1;32m     83\u001b[0m     do_check_ext \u001b[38;5;241m=\u001b[39m \u001b[38;5;28;01mFalse\u001b[39;00m\n\u001b[1;32m     84\u001b[0m     raws\u001b[38;5;241m.\u001b[39mappend(raw)\n",
      "File \u001b[0;32m<decorator-gen-263>:12\u001b[0m, in \u001b[0;36m_read_raw_file\u001b[0;34m(self, fname, allow_maxshield, preload, do_check_ext, verbose)\u001b[0m\n",
      "File \u001b[0;32m~/miniconda3/envs/synaptech_env/lib/python3.10/site-packages/mne/io/fiff/raw.py:146\u001b[0m, in \u001b[0;36mRaw._read_raw_file\u001b[0;34m(self, fname, allow_maxshield, preload, do_check_ext, verbose)\u001b[0m\n\u001b[1;32m    144\u001b[0m     check_fname(fname, \u001b[38;5;124m'\u001b[39m\u001b[38;5;124mraw\u001b[39m\u001b[38;5;124m'\u001b[39m, endings)\n\u001b[1;32m    145\u001b[0m \u001b[38;5;66;03m# filename\u001b[39;00m\n\u001b[0;32m--> 146\u001b[0m fname \u001b[38;5;241m=\u001b[39m \u001b[43m_check_fname\u001b[49m\u001b[43m(\u001b[49m\u001b[43mfname\u001b[49m\u001b[43m,\u001b[49m\u001b[43m \u001b[49m\u001b[38;5;124;43m'\u001b[39;49m\u001b[38;5;124;43mread\u001b[39;49m\u001b[38;5;124;43m'\u001b[39;49m\u001b[43m,\u001b[49m\u001b[43m \u001b[49m\u001b[38;5;28;43;01mTrue\u001b[39;49;00m\u001b[43m,\u001b[49m\u001b[43m \u001b[49m\u001b[38;5;124;43m'\u001b[39;49m\u001b[38;5;124;43mfname\u001b[39;49m\u001b[38;5;124;43m'\u001b[39;49m\u001b[43m)\u001b[49m\n\u001b[1;32m    147\u001b[0m ext \u001b[38;5;241m=\u001b[39m os\u001b[38;5;241m.\u001b[39mpath\u001b[38;5;241m.\u001b[39msplitext(fname)[\u001b[38;5;241m1\u001b[39m]\u001b[38;5;241m.\u001b[39mlower()\n\u001b[1;32m    148\u001b[0m whole_file \u001b[38;5;241m=\u001b[39m preload \u001b[38;5;28;01mif\u001b[39;00m \u001b[38;5;124m'\u001b[39m\u001b[38;5;124m.gz\u001b[39m\u001b[38;5;124m'\u001b[39m \u001b[38;5;129;01min\u001b[39;00m ext \u001b[38;5;28;01melse\u001b[39;00m \u001b[38;5;28;01mFalse\u001b[39;00m\n",
      "File \u001b[0;32m<decorator-gen-0>:12\u001b[0m, in \u001b[0;36m_check_fname\u001b[0;34m(fname, overwrite, must_exist, name, need_dir, verbose)\u001b[0m\n",
      "File \u001b[0;32m~/miniconda3/envs/synaptech_env/lib/python3.10/site-packages/mne/utils/check.py:245\u001b[0m, in \u001b[0;36m_check_fname\u001b[0;34m(fname, overwrite, must_exist, name, need_dir, verbose)\u001b[0m\n\u001b[1;32m    242\u001b[0m             \u001b[38;5;28;01mraise\u001b[39;00m \u001b[38;5;167;01mPermissionError\u001b[39;00m(\n\u001b[1;32m    243\u001b[0m                 \u001b[38;5;124mf\u001b[39m\u001b[38;5;124m'\u001b[39m\u001b[38;5;132;01m{\u001b[39;00mname\u001b[38;5;132;01m}\u001b[39;00m\u001b[38;5;124m does not have read permissions: \u001b[39m\u001b[38;5;132;01m{\u001b[39;00mfname\u001b[38;5;132;01m}\u001b[39;00m\u001b[38;5;124m'\u001b[39m)\n\u001b[1;32m    244\u001b[0m \u001b[38;5;28;01melif\u001b[39;00m must_exist:\n\u001b[0;32m--> 245\u001b[0m     \u001b[38;5;28;01mraise\u001b[39;00m \u001b[38;5;167;01mFileNotFoundError\u001b[39;00m(\u001b[38;5;124mf\u001b[39m\u001b[38;5;124m'\u001b[39m\u001b[38;5;132;01m{\u001b[39;00mname\u001b[38;5;132;01m}\u001b[39;00m\u001b[38;5;124m does not exist: \u001b[39m\u001b[38;5;132;01m{\u001b[39;00mfname\u001b[38;5;132;01m}\u001b[39;00m\u001b[38;5;124m'\u001b[39m)\n\u001b[1;32m    247\u001b[0m \u001b[38;5;28;01mreturn\u001b[39;00m fname\n",
      "\u001b[0;31mFileNotFoundError\u001b[0m: fname does not exist: /Users/gleb/Desktop/CS/Synaptech/data_magic/data/openfmri/sub-01/ses-meg/meg/sub-01_ses-meg_task-facerecognition_run-01_meg.fif"
     ]
    }
   ],
   "source": [
    "import mne\n",
    "import os\n",
    "\n",
    "# Load the .fif file\n",
    "fif_file = os.path.join(\"data\",\"openfmri\",\"sub-01\",\"ses-meg\",\"meg\",\"sub-01_ses-meg_task-facerecognition_run-01_meg.fif\") \n",
    "\n",
    "import time\n",
    "\n",
    "start_time = time.time()\n",
    "raw_data = mne.io.read_raw_fif(fif_file, preload=True)\n",
    "end_time = time.time()\n",
    "\n",
    "load_time = end_time - start_time\n",
    "print(f\"Time taken to load the data: {load_time:.2f} seconds\")\n"
   ]
  },
  {
   "cell_type": "code",
   "execution_count": 18,
   "metadata": {},
   "outputs": [
    {
     "name": "stdout",
     "output_type": "stream",
     "text": [
      "Shape of eeg_data: (74, 540100)\n",
      "Shape of meg_data: (306, 540100)\n",
      "Type of eeg_data: <class 'numpy.ndarray'>\n",
      "Type of meg_data: <class 'numpy.ndarray'>\n",
      "0.3197392 GB\n",
      "1.3221648 GB\n",
      "Total data size for participant 1: 1.641904 GB\n",
      "Estimated total openFMRI data size for all participants: 31.196176 GB\n"
     ]
    }
   ],
   "source": [
    "eeg_data = raw_data.get_data(picks='eeg')\n",
    "meg_data = raw_data.get_data(picks='meg')\n",
    "print(\"Shape of eeg_data:\", eeg_data.shape)\n",
    "print(\"Shape of meg_data:\", meg_data.shape)\n",
    "\n",
    "print(\"Type of eeg_data:\", type(eeg_data))\n",
    "print(\"Type of meg_data:\", type(meg_data))\n",
    "\n",
    "print(eeg_data.nbytes / (1000**3), \"GB\")\n",
    "print(meg_data.nbytes / (1000**3), \"GB\")\n",
    "total_data_size_gb = (eeg_data.nbytes + meg_data.nbytes) / (1000**3)\n",
    "print(\"Total data size for participant 1:\", total_data_size_gb, \"GB\")\n",
    "\n",
    "total_participant_count = 19\n",
    "estimated_total_data_size_gb = total_data_size_gb * total_participant_count\n",
    "print(\"Estimated total openFMRI data size for all participants:\", estimated_total_data_size_gb, \"GB\")\n",
    "\n"
   ]
  }
 ],
 "metadata": {
  "kernelspec": {
   "display_name": ".venv",
   "language": "python",
   "name": "python3"
  },
  "language_info": {
   "codemirror_mode": {
    "name": "ipython",
    "version": 3
   },
   "file_extension": ".py",
   "mimetype": "text/x-python",
   "name": "python",
   "nbconvert_exporter": "python",
   "pygments_lexer": "ipython3",
   "version": "3.10.14"
  }
 },
 "nbformat": 4,
 "nbformat_minor": 2
}
