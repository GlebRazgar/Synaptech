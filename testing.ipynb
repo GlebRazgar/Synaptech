{
 "cells": [
  {
   "cell_type": "code",
   "execution_count": 1,
   "metadata": {},
   "outputs": [
    {
     "name": "stdout",
     "output_type": "stream",
     "text": [
      "Opening raw data file data/openfmri/sub-01/ses-meg/meg/sub-01_ses-meg_task-facerecognition_run-01_meg.fif...\n",
      "    Read a total of 8 projection items:\n",
      "        mag_ssp_upright.fif : PCA-mags-v1 (1 x 306)  idle\n",
      "        mag_ssp_upright.fif : PCA-mags-v2 (1 x 306)  idle\n",
      "        mag_ssp_upright.fif : PCA-mags-v3 (1 x 306)  idle\n",
      "        mag_ssp_upright.fif : PCA-mags-v4 (1 x 306)  idle\n",
      "        mag_ssp_upright.fif : PCA-mags-v5 (1 x 306)  idle\n",
      "        grad_ssp_upright.fif : PCA-grad-v1 (1 x 306)  idle\n",
      "        grad_ssp_upright.fif : PCA-grad-v2 (1 x 306)  idle\n",
      "        grad_ssp_upright.fif : PCA-grad-v3 (1 x 306)  idle\n",
      "    Range : 248600 ... 788699 =    226.000 ...   716.999 secs\n",
      "Ready.\n",
      "Reading 0 ... 540099  =      0.000 ...   490.999 secs...\n",
      "Time taken to load the data: 1.38 seconds\n"
     ]
    }
   ],
   "source": [
    "import mne\n",
    "import os\n",
    "\n",
    "# Load the .fif file\n",
    "fif_file = os.path.join(\"data\",\"openfmri\",\"sub-01\",\"ses-meg\",\"meg\",\"sub-01_ses-meg_task-facerecognition_run-01_meg.fif\") \n",
    "\n",
    "import time\n",
    "\n",
    "start_time = time.time()\n",
    "raw_data = mne.io.read_raw_fif(fif_file, preload=True)\n",
    "end_time = time.time()\n",
    "\n",
    "load_time = end_time - start_time\n",
    "print(f\"Time taken to load the data: {load_time:.2f} seconds\")\n"
   ]
  },
  {
   "cell_type": "code",
   "execution_count": 18,
   "metadata": {},
   "outputs": [
    {
     "name": "stdout",
     "output_type": "stream",
     "text": [
      "Shape of eeg_data: (74, 540100)\n",
      "Shape of meg_data: (306, 540100)\n",
      "Type of eeg_data: <class 'numpy.ndarray'>\n",
      "Type of meg_data: <class 'numpy.ndarray'>\n",
      "0.3197392 GB\n",
      "1.3221648 GB\n",
      "Total data size for participant 1: 1.641904 GB\n",
      "Estimated total openFMRI data size for all participants: 31.196176 GB\n"
     ]
    }
   ],
   "source": [
    "eeg_data = raw_data.get_data(picks='eeg')\n",
    "meg_data = raw_data.get_data(picks='meg')\n",
    "print(\"Shape of eeg_data:\", eeg_data.shape)\n",
    "print(\"Shape of meg_data:\", meg_data.shape)\n",
    "\n",
    "print(\"Type of eeg_data:\", type(eeg_data))\n",
    "print(\"Type of meg_data:\", type(meg_data))\n",
    "\n",
    "print(eeg_data.nbytes / (1000**3), \"GB\")\n",
    "print(meg_data.nbytes / (1000**3), \"GB\")\n",
    "total_data_size_gb = (eeg_data.nbytes + meg_data.nbytes) / (1000**3)\n",
    "print(\"Total data size for participant 1:\", total_data_size_gb, \"GB\")\n",
    "\n",
    "total_participant_count = 19\n",
    "estimated_total_data_size_gb = total_data_size_gb * total_participant_count\n",
    "print(\"Estimated total openFMRI data size for all participants:\", estimated_total_data_size_gb, \"GB\")\n",
    "\n"
   ]
  }
 ],
 "metadata": {
  "kernelspec": {
   "display_name": ".venv",
   "language": "python",
   "name": "python3"
  },
  "language_info": {
   "codemirror_mode": {
    "name": "ipython",
    "version": 3
   },
   "file_extension": ".py",
   "mimetype": "text/x-python",
   "name": "python",
   "nbconvert_exporter": "python",
   "pygments_lexer": "ipython3",
   "version": "3.12.6"
  }
 },
 "nbformat": 4,
 "nbformat_minor": 2
}
