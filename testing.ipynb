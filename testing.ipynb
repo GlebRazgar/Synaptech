{
 "cells": [
  {
   "cell_type": "code",
   "execution_count": 1,
   "metadata": {},
   "outputs": [
    {
     "name": "stdout",
     "output_type": "stream",
     "text": [
      "Opening raw data file data/openfmri/sub-01/ses-meg/meg/sub-01_ses-meg_task-facerecognition_run-01_meg.fif...\n",
      "    Read a total of 8 projection items:\n",
      "        mag_ssp_upright.fif : PCA-mags-v1 (1 x 306)  idle\n",
      "        mag_ssp_upright.fif : PCA-mags-v2 (1 x 306)  idle\n",
      "        mag_ssp_upright.fif : PCA-mags-v3 (1 x 306)  idle\n",
      "        mag_ssp_upright.fif : PCA-mags-v4 (1 x 306)  idle\n",
      "        mag_ssp_upright.fif : PCA-mags-v5 (1 x 306)  idle\n",
      "        grad_ssp_upright.fif : PCA-grad-v1 (1 x 306)  idle\n",
      "        grad_ssp_upright.fif : PCA-grad-v2 (1 x 306)  idle\n",
      "        grad_ssp_upright.fif : PCA-grad-v3 (1 x 306)  idle\n",
      "    Range : 248600 ... 788699 =    226.000 ...   716.999 secs\n",
      "Ready.\n",
      "Reading 0 ... 540099  =      0.000 ...   490.999 secs...\n",
      "Time taken to load the data: 1.38 seconds\n"
     ]
    }
   ],
   "source": [
    "import mne\n",
    "import os\n",
    "\n",
    "# Load the .fif file\n",
    "fif_file = os.path.join(\"data\",\"openfmri\",\"sub-01\",\"ses-meg\",\"meg\",\"sub-01_ses-meg_task-facerecognition_run-01_meg.fif\") \n",
    "\n",
    "import time\n",
    "\n",
    "start_time = time.time()\n",
    "raw_data = mne.io.read_raw_fif(fif_file, preload=True)\n",
    "end_time = time.time()\n",
    "\n",
    "load_time = end_time - start_time\n",
    "print(f\"Time taken to load the data: {load_time:.2f} seconds\")\n"
   ]
  },
  {
   "cell_type": "code",
   "execution_count": 18,
   "metadata": {},
   "outputs": [
    {
     "name": "stdout",
     "output_type": "stream",
     "text": [
      "Shape of eeg_data: (74, 540100)\n",
      "Shape of meg_data: (306, 540100)\n",
      "Type of eeg_data: <class 'numpy.ndarray'>\n",
      "Type of meg_data: <class 'numpy.ndarray'>\n",
      "0.3197392 GB\n",
      "1.3221648 GB\n",
      "Total data size for participant 1: 1.641904 GB\n",
      "Estimated total openFMRI data size for all participants: 31.196176 GB\n"
     ]
    }
   ],
   "source": [
    "eeg_data = raw_data.get_data(picks='eeg')\n",
    "meg_data = raw_data.get_data(picks='meg')\n",
    "print(\"Shape of eeg_data:\", eeg_data.shape)\n",
    "print(\"Shape of meg_data:\", meg_data.shape)\n",
    "\n",
    "print(\"Type of eeg_data:\", type(eeg_data))\n",
    "print(\"Type of meg_data:\", type(meg_data))\n",
    "\n",
    "print(eeg_data.nbytes / (1000**3), \"GB\")\n",
    "print(meg_data.nbytes / (1000**3), \"GB\")\n",
    "total_data_size_gb = (eeg_data.nbytes + meg_data.nbytes) / (1000**3)\n",
    "print(\"Total data size for participant 1:\", total_data_size_gb, \"GB\")\n",
    "\n",
    "total_participant_count = 19\n",
    "estimated_total_data_size_gb = total_data_size_gb * total_participant_count\n",
    "print(\"Estimated total openFMRI data size for all participants:\", estimated_total_data_size_gb, \"GB\")\n",
    "\n"
   ]
  },
  {
   "cell_type": "code",
   "execution_count": 2,
   "metadata": {},
   "outputs": [
    {
     "name": "stderr",
     "output_type": "stream",
     "text": [
      "INFO:dataset.utilities:Downloading and processing entire dataset using URLs: ['https://s3.amazonaws.com/openneuro/ds000117/ds000117_R1.0.0/compressed/ds000117_R1.0.0_derivatives_sub01-04.zip', 'https://s3.amazonaws.com/openneuro/ds000117/ds000117_R1.0.0/compressed/ds000117_R1.0.0_derivatives_sub05-08.zip', 'https://s3.amazonaws.com/openneuro/ds000117/ds000117_R1.0.0/compressed/ds000117_R1.0.0_derivatives_sub09-12.zip', 'https://s3.amazonaws.com/openneuro/ds000117/ds000117_R1.0.0/compressed/ds000117_R1.0.0_derivatives_sub13-16.zip']\n",
      "INFO:dataset.utilities:Dataset already downloaded. Skipping download.\n",
      "INFO:dataset.utilities:Unzipping and renaming 4 files in folder: data/openfmri\n",
      "INFO:dataset.utilities:Unzipping data/openfmri/ds000117_R1.0.0_derivatives_sub01-04.zip...\n",
      "INFO:dataset.utilities:Unzipped data/openfmri/ds000117_R1.0.0_derivatives_sub01-04.zip\n",
      "INFO:dataset.utilities:Unzipping data/openfmri/ds000117_R1.0.0_derivatives_sub09-12.zip...\n",
      "INFO:dataset.utilities:Unzipped data/openfmri/ds000117_R1.0.0_derivatives_sub09-12.zip\n",
      "INFO:dataset.utilities:Unzipping data/openfmri/ds000117_R1.0.0_derivatives_sub05-08.zip...\n",
      "INFO:dataset.utilities:Unzipped data/openfmri/ds000117_R1.0.0_derivatives_sub05-08.zip\n",
      "INFO:dataset.utilities:Unzipping data/openfmri/ds000117_R1.0.0_derivatives_sub13-16.zip...\n",
      "INFO:dataset.utilities:Unzipped data/openfmri/ds000117_R1.0.0_derivatives_sub13-16.zip\n",
      "DEBUG:dataset.utilities:0, ds000117_R1.0.0\n",
      "DEBUG:dataset.utilities:Unzipped folders found: \n",
      " ['folder_0'] \n",
      "Rearranging.\n",
      "DEBUG:dataset.utilities:Moving subjects in folder_0 to parent (data/openfmri) and deleting.\n",
      "DEBUG:dataset.utilities:sub:folder_0/derivatives/meg_derivatives,  parent:data/openfmri\n",
      "DEBUG:dataset.utilities:Participant folders found: \n",
      " ['sub-14', 'sub-01', 'sub-16', 'sub-06', 'sub-03', 'sub-12', 'sub-08', 'sub-04', 'sub-02', 'sub-13', 'sub-15', 'sub-11', 'sub-07', 'sub-05', 'sub-10', 'sub-09'] \n",
      "Rearranging.\n",
      "DEBUG:dataset.utilities:Moving data in sub-14 to parent (data/openfmri) and deleting.\n",
      "DEBUG:dataset.utilities:sub:ses-meg/meg,  parent:data/openfmri\n",
      "DEBUG:dataset.utilities:Moving data in sub-01 to parent (data/openfmri) and deleting.\n",
      "DEBUG:dataset.utilities:sub:ses-meg/meg,  parent:data/openfmri\n",
      "DEBUG:dataset.utilities:Moving data in sub-16 to parent (data/openfmri) and deleting.\n",
      "DEBUG:dataset.utilities:sub:ses-meg/meg,  parent:data/openfmri\n",
      "DEBUG:dataset.utilities:Moving data in sub-06 to parent (data/openfmri) and deleting.\n",
      "DEBUG:dataset.utilities:sub:ses-meg/meg,  parent:data/openfmri\n",
      "DEBUG:dataset.utilities:Moving data in sub-03 to parent (data/openfmri) and deleting.\n",
      "DEBUG:dataset.utilities:sub:ses-meg/meg,  parent:data/openfmri\n",
      "DEBUG:dataset.utilities:Moving data in sub-12 to parent (data/openfmri) and deleting.\n",
      "DEBUG:dataset.utilities:sub:ses-meg/meg,  parent:data/openfmri\n",
      "DEBUG:dataset.utilities:Moving data in sub-08 to parent (data/openfmri) and deleting.\n",
      "DEBUG:dataset.utilities:sub:ses-meg/meg,  parent:data/openfmri\n",
      "DEBUG:dataset.utilities:Moving data in sub-04 to parent (data/openfmri) and deleting.\n",
      "DEBUG:dataset.utilities:sub:ses-meg/meg,  parent:data/openfmri\n",
      "DEBUG:dataset.utilities:Moving data in sub-02 to parent (data/openfmri) and deleting.\n",
      "DEBUG:dataset.utilities:sub:ses-meg/meg,  parent:data/openfmri\n",
      "DEBUG:dataset.utilities:Moving data in sub-13 to parent (data/openfmri) and deleting.\n",
      "DEBUG:dataset.utilities:sub:ses-meg/meg,  parent:data/openfmri\n",
      "DEBUG:dataset.utilities:Moving data in sub-15 to parent (data/openfmri) and deleting.\n",
      "DEBUG:dataset.utilities:sub:ses-meg/meg,  parent:data/openfmri\n",
      "DEBUG:dataset.utilities:Moving data in sub-11 to parent (data/openfmri) and deleting.\n",
      "DEBUG:dataset.utilities:sub:ses-meg/meg,  parent:data/openfmri\n",
      "DEBUG:dataset.utilities:Moving data in sub-07 to parent (data/openfmri) and deleting.\n",
      "DEBUG:dataset.utilities:sub:ses-meg/meg,  parent:data/openfmri\n",
      "DEBUG:dataset.utilities:Moving data in sub-05 to parent (data/openfmri) and deleting.\n",
      "DEBUG:dataset.utilities:sub:ses-meg/meg,  parent:data/openfmri\n",
      "DEBUG:dataset.utilities:Moving data in sub-10 to parent (data/openfmri) and deleting.\n",
      "DEBUG:dataset.utilities:sub:ses-meg/meg,  parent:data/openfmri\n",
      "DEBUG:dataset.utilities:Moving data in sub-09 to parent (data/openfmri) and deleting.\n",
      "DEBUG:dataset.utilities:sub:ses-meg/meg,  parent:data/openfmri\n",
      "DEBUG:dataset.utilities:Participant folders: \n",
      "['sub-14', 'sub-01', 'sub-16', 'sub-06', 'sub-03', 'sub-12', 'sub-08', 'sub-04', 'sub-02', 'sub-13', 'sub-15', 'sub-11', 'sub-07', 'sub-05', 'sub-10', 'sub-09']\n"
     ]
    }
   ],
   "source": [
    "from dataset.utilities import DatasetDownloader\n",
    "import os\n",
    "downloader = DatasetDownloader(downloadAndPrepareImmediately=True, dataPath=os.path.join('data','openfmri'),verbose=False)"
   ]
  }
 ],
 "metadata": {
  "kernelspec": {
   "display_name": ".venv",
   "language": "python",
   "name": "python3"
  },
  "language_info": {
   "codemirror_mode": {
    "name": "ipython",
    "version": 3
   },
   "file_extension": ".py",
   "mimetype": "text/x-python",
   "name": "python",
   "nbconvert_exporter": "python",
   "pygments_lexer": "ipython3",
   "version": "3.12.3"
  }
 },
 "nbformat": 4,
 "nbformat_minor": 2
}
